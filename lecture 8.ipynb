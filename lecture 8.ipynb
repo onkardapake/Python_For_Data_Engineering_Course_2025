{
 "cells": [
  {
   "cell_type": "markdown",
   "id": "31cca90a-d4cd-4f48-9d7c-c157d06faf15",
   "metadata": {},
   "source": [
    "# Exception Handling : "
   ]
  },
  {
   "cell_type": "markdown",
   "id": "c6384874-e001-4ceb-a71f-4788aee8eed3",
   "metadata": {},
   "source": [
    "We can log the errors using exception handling \n",
    "We will continue the job\n",
    "\n",
    "There are two types: \n",
    "1) Try block: main code, where we write code\n",
    "2) exception block: if any issue with try block then exception block will execute\n",
    "\n",
    "Exception block runs me there is error in try or in data.\n",
    "\n"
   ]
  },
  {
   "cell_type": "code",
   "execution_count": 8,
   "id": "21616aec-4aa6-4563-bc7b-0f0902a41c99",
   "metadata": {},
   "outputs": [
    {
     "name": "stdout",
     "output_type": "stream",
     "text": [
      "Exception here:  '>' not supported between instances of 'int' and 'str'\n"
     ]
    }
   ],
   "source": [
    "try: \n",
    "    a=10\n",
    "    b='20'\n",
    "    c=a>b\n",
    "    print('try block : ', c)\n",
    "except Exception as e:\n",
    "    print('Exception here: ',e)\n",
    "    "
   ]
  },
  {
   "cell_type": "code",
   "execution_count": 9,
   "id": "fd226931-04ea-4a75-a5aa-22ebe6fb6f7d",
   "metadata": {},
   "outputs": [
    {
     "name": "stdout",
     "output_type": "stream",
     "text": [
      "Others exception block:  list index out of range\n",
      "Sucess or fail 33.0\n"
     ]
    }
   ],
   "source": [
    "# Finally: \n",
    "\n",
    "a=33\n",
    "b=1\n",
    "a_list = [1,1,2,3]\n",
    "try:\n",
    "    c=a/b\n",
    "    e=a_list[9]\n",
    "    print('try block is ok :',e)\n",
    "except ZeroDivisionError:\n",
    "    print('Handled Zero Division Error')\n",
    "except Exception as e :\n",
    "    print('Others exception block: ',e)\n",
    "\n",
    "finally :\n",
    "    print('Sucess or fail',c)"
   ]
  },
  {
   "cell_type": "code",
   "execution_count": null,
   "id": "6ab572c0-076c-4db0-ab27-01fe4235fb1f",
   "metadata": {},
   "outputs": [],
   "source": []
  }
 ],
 "metadata": {
  "kernelspec": {
   "display_name": "Python 3 (ipykernel)",
   "language": "python",
   "name": "python3"
  },
  "language_info": {
   "codemirror_mode": {
    "name": "ipython",
    "version": 3
   },
   "file_extension": ".py",
   "mimetype": "text/x-python",
   "name": "python",
   "nbconvert_exporter": "python",
   "pygments_lexer": "ipython3",
   "version": "3.10.13"
  }
 },
 "nbformat": 4,
 "nbformat_minor": 5
}
