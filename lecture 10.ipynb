{
 "cells": [
  {
   "cell_type": "markdown",
   "id": "5e93bb88-8aeb-41bc-bc4a-7ce69450246c",
   "metadata": {},
   "source": [
    "# Comparison Operator: \n",
    "\n",
    "and \n",
    "or \n",
    "nor\n",
    "less than\n",
    "greater than \n",
    "equal to \n",
    "greater than equal to"
   ]
  },
  {
   "cell_type": "markdown",
   "id": "668877d8-655e-431b-a3e7-1872b5da40c4",
   "metadata": {},
   "source": [
    "# Logical operator: \n",
    "\n",
    "1)and\n",
    "2)or\n",
    "3)nor"
   ]
  },
  {
   "cell_type": "code",
   "execution_count": 2,
   "id": "04ef0ba7-9086-42d8-bcf3-d4529a501a00",
   "metadata": {},
   "outputs": [
    {
     "name": "stdout",
     "output_type": "stream",
     "text": [
      "At index 0 the letter is p\n",
      "At index 1 the letter is y\n",
      "At index 2 the letter is s\n",
      "At index 3 the letter is p\n",
      "At index 4 the letter is a\n",
      "At index 5 the letter is r\n",
      "At index 6 the letter is k\n"
     ]
    }
   ],
   "source": [
    "# enumerate\n",
    "\n",
    "for i, letter in enumerate ('pyspark'):\n",
    "    print(\"At index {} the letter is {}\".format(i,letter))"
   ]
  },
  {
   "cell_type": "code",
   "execution_count": 3,
   "id": "88d27c48-a60f-4b95-9b73-7c672fd4e520",
   "metadata": {},
   "outputs": [
    {
     "name": "stdout",
     "output_type": "stream",
     "text": [
      "[(1, 3), (2, 4), (3, 5), (4, 6), (5, 7)]\n"
     ]
    }
   ],
   "source": [
    "# zip ()\n",
    "\n",
    "list_a = [1,2,3,4,5]\n",
    "list_b = [3,4,5,6,7,8,9,10]\n",
    "\n",
    "x=zip(list_a,list_b)\n",
    "\n",
    "print(list(x))"
   ]
  },
  {
   "cell_type": "code",
   "execution_count": 4,
   "id": "091d9054-8e47-42f7-adac-6963cb0847d5",
   "metadata": {},
   "outputs": [
    {
     "name": "stdout",
     "output_type": "stream",
     "text": [
      "Min 1\n"
     ]
    }
   ],
   "source": [
    "# min() and max() function: \n",
    "\n",
    "print(\"Min\",min(list_a))"
   ]
  },
  {
   "cell_type": "code",
   "execution_count": 6,
   "id": "282275e3-89e5-4049-adf1-c828e4441603",
   "metadata": {},
   "outputs": [
    {
     "name": "stdout",
     "output_type": "stream",
     "text": [
      "True\n"
     ]
    }
   ],
   "source": [
    "#isinstance(object, type)\n",
    "\n",
    "test = isinstance(5, int)\n",
    "print(test)\n"
   ]
  },
  {
   "cell_type": "code",
   "execution_count": 9,
   "id": "616d8a61-4807-4d64-ad02-e450017b3aa0",
   "metadata": {},
   "outputs": [
    {
     "name": "stdout",
     "output_type": "stream",
     "text": [
      "44\n",
      "9\n",
      "8\n",
      "7\n",
      "34\n",
      "20\n",
      "10\n"
     ]
    }
   ],
   "source": [
    "# reversed (list)\n",
    "\n",
    "list= [10,20,34,7,8,9,44]\n",
    "result=reversed(list)\n",
    "for x in result:\n",
    "    print(x)"
   ]
  },
  {
   "cell_type": "code",
   "execution_count": 12,
   "id": "a55dafa2-9630-4f93-917b-8211b35dc75e",
   "metadata": {},
   "outputs": [
    {
     "name": "stdout",
     "output_type": "stream",
     "text": [
      "['a', 'b', 'c', 'd', 'e', 'f']\n"
     ]
    }
   ],
   "source": [
    "# sorted (list)\n",
    "\n",
    "a = ('a','d','b','c','f','e')\n",
    "x = sorted(a)\n",
    "print(x)"
   ]
  },
  {
   "cell_type": "code",
   "execution_count": 14,
   "id": "d2066fce-e341-4b90-8c0f-a6be498a0877",
   "metadata": {},
   "outputs": [
    {
     "name": "stdout",
     "output_type": "stream",
     "text": [
      "['f', 'e', 'd', 'c', 'b', 'a']\n"
     ]
    }
   ],
   "source": [
    "a = ('a','d','b','c','f','e')\n",
    "x = sorted(a,reverse=True)\n",
    "print(x)"
   ]
  },
  {
   "cell_type": "markdown",
   "id": "0afdecd9-1aad-4191-a5de-ea0177aa3156",
   "metadata": {},
   "source": [
    "# Globals: \n"
   ]
  },
  {
   "cell_type": "code",
   "execution_count": 16,
   "id": "fbfe40c3-767a-4b12-a881-b1033ad2e6d3",
   "metadata": {},
   "outputs": [
    {
     "name": "stdout",
     "output_type": "stream",
     "text": [
      "{'__name__': '__main__', '__doc__': 'Automatically created module for IPython interactive environment', '__package__': None, '__loader__': None, '__spec__': None, '__builtin__': <module 'builtins' (built-in)>, '__builtins__': <module 'builtins' (built-in)>, '_ih': ['', '# enumerate\\n\\nfor i, letter in enumerate (\\'pyspark\\'):\\n    print(\"At index {} the letter is {}\", format(i,letter))', '# enumerate\\n\\nfor i, letter in enumerate (\\'pyspark\\'):\\n    print(\"At index {} the letter is {}\".format(i,letter))', '# zip ()\\n\\nlist_a = [1,2,3,4,5]\\nlist_b = [3,4,5,6,7,8,9,10]\\n\\nx=zip(list_a,list_b)\\n\\nprint(list(x))', '# min() and max() function: \\n\\nprint(\"Min\",min(list_a))', '#isinstance(object, type)\\n\\ntest = isinstance(5, int)\\nprint(test)', '#isinstance(object, type)\\n\\ntest = isinstance(5, int)\\nprint(test)', '# reversed (list)\\n\\nlist= [10,20,34,7,8,9,44]\\nresult=reversed(list)\\nprint(result)', '# reversed (list)\\n\\nlist= [10,20,34,7,8,9,44]\\nresult=reversed(list)\\nprint(list)', '# reversed (list)\\n\\nlist= [10,20,34,7,8,9,44]\\nresult=reversed(list)\\nfor x in result:\\n    print(x)', \"# sorted (list)\\n\\na ={'a','d','b','c','f','e'}\\nx = sorted(a, reversed= True)\\nprint(x)\", \"# sorted (list)\\n\\na = ('a','d','b','c','f','e')\\nx = sorted(a, reversed= True)\\nprint(x)\", \"# sorted (list)\\n\\na = ('a','d','b','c','f','e')\\nx = sorted(a)\\nprint(x)\", \"a = ('a','d','b','c','f','e')\\nx = sorted(a,reversed=True)\\nprint(x)\", \"a = ('a','d','b','c','f','e')\\nx = sorted(a,reverse=True)\\nprint(x)\", 'var= globals()\\nprint(var)', '#give you all global objects in current session\\nvar= globals()\\nprint(var)'], '_oh': {}, '_dh': [WindowsPath('C:/Users/onkar.dapake/OneDrive - PROWESS SELLING SKILLS PRIVATE LIMITED/Prowess Gen AI/Courses')], 'In': ['', '# enumerate\\n\\nfor i, letter in enumerate (\\'pyspark\\'):\\n    print(\"At index {} the letter is {}\", format(i,letter))', '# enumerate\\n\\nfor i, letter in enumerate (\\'pyspark\\'):\\n    print(\"At index {} the letter is {}\".format(i,letter))', '# zip ()\\n\\nlist_a = [1,2,3,4,5]\\nlist_b = [3,4,5,6,7,8,9,10]\\n\\nx=zip(list_a,list_b)\\n\\nprint(list(x))', '# min() and max() function: \\n\\nprint(\"Min\",min(list_a))', '#isinstance(object, type)\\n\\ntest = isinstance(5, int)\\nprint(test)', '#isinstance(object, type)\\n\\ntest = isinstance(5, int)\\nprint(test)', '# reversed (list)\\n\\nlist= [10,20,34,7,8,9,44]\\nresult=reversed(list)\\nprint(result)', '# reversed (list)\\n\\nlist= [10,20,34,7,8,9,44]\\nresult=reversed(list)\\nprint(list)', '# reversed (list)\\n\\nlist= [10,20,34,7,8,9,44]\\nresult=reversed(list)\\nfor x in result:\\n    print(x)', \"# sorted (list)\\n\\na ={'a','d','b','c','f','e'}\\nx = sorted(a, reversed= True)\\nprint(x)\", \"# sorted (list)\\n\\na = ('a','d','b','c','f','e')\\nx = sorted(a, reversed= True)\\nprint(x)\", \"# sorted (list)\\n\\na = ('a','d','b','c','f','e')\\nx = sorted(a)\\nprint(x)\", \"a = ('a','d','b','c','f','e')\\nx = sorted(a,reversed=True)\\nprint(x)\", \"a = ('a','d','b','c','f','e')\\nx = sorted(a,reverse=True)\\nprint(x)\", 'var= globals()\\nprint(var)', '#give you all global objects in current session\\nvar= globals()\\nprint(var)'], 'Out': {}, 'get_ipython': <bound method InteractiveShell.get_ipython of <ipykernel.zmqshell.ZMQInteractiveShell object at 0x0000022D567CAE90>>, 'exit': <IPython.core.autocall.ZMQExitAutocall object at 0x0000022D567CB910>, 'quit': <IPython.core.autocall.ZMQExitAutocall object at 0x0000022D567CB910>, 'open': <function open at 0x0000022D5516E0E0>, '_': '', '__': '', '___': '', '__session__': 'C:\\\\Users\\\\onkar.dapake\\\\OneDrive - PROWESS SELLING SKILLS PRIVATE LIMITED\\\\Prowess Gen AI\\\\Courses\\\\Untitled.ipynb', '_i': '\\nvar= globals()\\nprint(var)', '_ii': \"a = ('a','d','b','c','f','e')\\nx = sorted(a,reverse=True)\\nprint(x)\", '_iii': \"a = ('a','d','b','c','f','e')\\nx = sorted(a,reversed=True)\\nprint(x)\", '_i1': '# enumerate\\n\\nfor i, letter in enumerate (\\'pyspark\\'):\\n    print(\"At index {} the letter is {}\", format(i,letter))', 'i': 6, 'letter': 'k', '_i2': '# enumerate\\n\\nfor i, letter in enumerate (\\'pyspark\\'):\\n    print(\"At index {} the letter is {}\".format(i,letter))', '_i3': '# zip ()\\n\\nlist_a = [1,2,3,4,5]\\nlist_b = [3,4,5,6,7,8,9,10]\\n\\nx=zip(list_a,list_b)\\n\\nprint(list(x))', 'list_a': [1, 2, 3, 4, 5], 'list_b': [3, 4, 5, 6, 7, 8, 9, 10], 'x': ['f', 'e', 'd', 'c', 'b', 'a'], '_i4': '# min() and max() function: \\n\\nprint(\"Min\",min(list_a))', '_i5': '#isinstance(object, type)\\n\\ntest = isinstance(5, int)\\nprint(test)', 'test': True, '_i6': '#isinstance(object, type)\\n\\ntest = isinstance(5, int)\\nprint(test)', '_i7': '# reversed (list)\\n\\nlist= [10,20,34,7,8,9,44]\\nresult=reversed(list)\\nprint(result)', 'list': [10, 20, 34, 7, 8, 9, 44], 'result': <list_reverseiterator object at 0x0000022D57EFEAA0>, '_i8': '# reversed (list)\\n\\nlist= [10,20,34,7,8,9,44]\\nresult=reversed(list)\\nprint(list)', '_i9': '# reversed (list)\\n\\nlist= [10,20,34,7,8,9,44]\\nresult=reversed(list)\\nfor x in result:\\n    print(x)', '_i10': \"# sorted (list)\\n\\na ={'a','d','b','c','f','e'}\\nx = sorted(a, reversed= True)\\nprint(x)\", 'a': ('a', 'd', 'b', 'c', 'f', 'e'), '_i11': \"# sorted (list)\\n\\na = ('a','d','b','c','f','e')\\nx = sorted(a, reversed= True)\\nprint(x)\", '_i12': \"# sorted (list)\\n\\na = ('a','d','b','c','f','e')\\nx = sorted(a)\\nprint(x)\", '_i13': \"a = ('a','d','b','c','f','e')\\nx = sorted(a,reversed=True)\\nprint(x)\", '_i14': \"a = ('a','d','b','c','f','e')\\nx = sorted(a,reverse=True)\\nprint(x)\", '_i15': '\\nvar= globals()\\nprint(var)', 'var': {...}, '_i16': '#give you all global objects in current session\\nvar= globals()\\nprint(var)'}\n"
     ]
    }
   ],
   "source": [
    "#give you all global objects in current session\n",
    "var= globals()\n",
    "print(var)"
   ]
  },
  {
   "cell_type": "code",
   "execution_count": 19,
   "id": "2ddc5e9c-72c6-4c0f-9866-40da35f0b0d2",
   "metadata": {},
   "outputs": [
    {
     "data": {
      "text/plain": [
       "[1, 5, 3, 4, 2]"
      ]
     },
     "execution_count": 19,
     "metadata": {},
     "output_type": "execute_result"
    }
   ],
   "source": [
    "# Random (shuffle) the list \n",
    "\n",
    "from random import shuffle\n",
    "list_a = [1,2,3,4,5]\n",
    "shuffle(list_a)\n",
    "list_a"
   ]
  },
  {
   "cell_type": "code",
   "execution_count": 21,
   "id": "c9b56530-067c-40bc-a458-5bcb0d295ec8",
   "metadata": {},
   "outputs": [
    {
     "data": {
      "text/plain": [
       "39"
      ]
     },
     "execution_count": 21,
     "metadata": {},
     "output_type": "execute_result"
    }
   ],
   "source": [
    "#randint : genrate random any number\n",
    "\n",
    "from random import randint\n",
    "randint(1,50)"
   ]
  },
  {
   "cell_type": "code",
   "execution_count": 22,
   "id": "f0d1cdcd-59f6-4e1e-a75b-91e9b6ac5627",
   "metadata": {},
   "outputs": [
    {
     "data": {
      "text/plain": [
       "['This',\n",
       " 'is',\n",
       " 'the',\n",
       " 'string',\n",
       " 'that',\n",
       " 'we',\n",
       " 'are',\n",
       " 'going',\n",
       " 'to',\n",
       " 'split',\n",
       " 'now']"
      ]
     },
     "execution_count": 22,
     "metadata": {},
     "output_type": "execute_result"
    }
   ],
   "source": [
    "# Split: seprate the string\n",
    "\n",
    "string = \"This is the string that we are going to split now\"\n",
    "output = string.split(\" \")\n",
    "output"
   ]
  },
  {
   "cell_type": "code",
   "execution_count": 24,
   "id": "fd12189d-8066-4425-b7c2-e5cfb288206c",
   "metadata": {},
   "outputs": [
    {
     "data": {
      "text/plain": [
       "'THE ONKAR DAPAKE'"
      ]
     },
     "execution_count": 24,
     "metadata": {},
     "output_type": "execute_result"
    }
   ],
   "source": [
    "# Upper (): \n",
    "\n",
    "string = \"the Onkar dapake\"\n",
    "x= string.upper()\n",
    "x"
   ]
  },
  {
   "cell_type": "code",
   "execution_count": 29,
   "id": "a887864e-1c11-46f1-8348-85d468071cc0",
   "metadata": {},
   "outputs": [
    {
     "data": {
      "text/plain": [
       "'the onkar dapake'"
      ]
     },
     "execution_count": 29,
     "metadata": {},
     "output_type": "execute_result"
    }
   ],
   "source": [
    "# Lower (): \n",
    "\n",
    "string = \"THE Onkar dapake\"\n",
    "x1= string.lower()\n",
    "x1"
   ]
  },
  {
   "cell_type": "code",
   "execution_count": 31,
   "id": "da823de2-397c-48ba-8386-9fb9f499d428",
   "metadata": {},
   "outputs": [
    {
     "data": {
      "text/plain": [
       "'Datacccasssse Traning'"
      ]
     },
     "execution_count": 31,
     "metadata": {},
     "output_type": "execute_result"
    }
   ],
   "source": [
    "# Replace : \n",
    "\n",
    "string = \"Database Traning\"\n",
    "string = string.replace('s','ssss').replace('b','ccc')\n",
    "string"
   ]
  },
  {
   "cell_type": "code",
   "execution_count": null,
   "id": "259136fd-aa31-47da-8d67-3c57dbdcf2a3",
   "metadata": {},
   "outputs": [],
   "source": [
    "# strip: \n",
    "\n",
    "string = \"  ONKAR  \"\n",
    "x= string.strip()\n",
    "print('before strip',string)\n",
    "print('rightstrip',x)"
   ]
  },
  {
   "cell_type": "code",
   "execution_count": null,
   "id": "f1fee5a4-6d14-4ec3-bef4-91314f2a0937",
   "metadata": {},
   "outputs": [],
   "source": [
    "# capitlize\n",
    "\n",
    "string = \"Onkar Trainings\"\n"
   ]
  },
  {
   "cell_type": "code",
   "execution_count": 39,
   "id": "aabcbd4c-e9cb-452d-b21e-9beb0df3ae48",
   "metadata": {},
   "outputs": [
    {
     "data": {
      "text/plain": [
       "33"
      ]
     },
     "execution_count": 39,
     "metadata": {},
     "output_type": "execute_result"
    }
   ],
   "source": [
    "# Reduce : \n",
    "\n",
    "from functools import reduce\n",
    "data = [1,2,30]\n",
    "reduce(lambda x,y: x+y, data)"
   ]
  },
  {
   "cell_type": "markdown",
   "id": "e6396c90-d743-48f4-a42c-676ff9ebf72c",
   "metadata": {},
   "source": [
    "# Recursion:\n",
    "\n",
    "- function to call itself\n",
    "  "
   ]
  },
  {
   "cell_type": "code",
   "execution_count": 4,
   "id": "4bcf796a-e44d-4bce-9f8b-ca70d62da64f",
   "metadata": {},
   "outputs": [
    {
     "data": {
      "text/plain": [
       "21"
      ]
     },
     "execution_count": 4,
     "metadata": {},
     "output_type": "execute_result"
    }
   ],
   "source": [
    "def sum_recursion (arr):\n",
    "    if len (arr) == 1:\n",
    "        return arr[0]\n",
    "    else:\n",
    "        return arr[0] + sum_recursion(arr[1:])\n",
    "\n",
    "list =[1,2,3,4,5,6]\n",
    "sum_recursion(list)"
   ]
  },
  {
   "cell_type": "code",
   "execution_count": 10,
   "id": "f411ab81-0855-415e-911e-5fee3b415135",
   "metadata": {},
   "outputs": [
    {
     "ename": "AssertionError",
     "evalue": "condition failed a and b values are not same",
     "output_type": "error",
     "traceback": [
      "\u001b[1;31m---------------------------------------------------------------------------\u001b[0m",
      "\u001b[1;31mAssertionError\u001b[0m                            Traceback (most recent call last)",
      "Cell \u001b[1;32mIn[10], line 5\u001b[0m\n\u001b[0;32m      3\u001b[0m a\u001b[38;5;241m=\u001b[39m\u001b[38;5;241m4\u001b[39m\n\u001b[0;32m      4\u001b[0m b\u001b[38;5;241m=\u001b[39m\u001b[38;5;241m3\u001b[39m\n\u001b[1;32m----> 5\u001b[0m \u001b[38;5;28;01massert\u001b[39;00m(a\u001b[38;5;241m==\u001b[39mb), \u001b[38;5;124m\"\u001b[39m\u001b[38;5;124mcondition failed a and b values are not same\u001b[39m\u001b[38;5;124m\"\u001b[39m\n",
      "\u001b[1;31mAssertionError\u001b[0m: condition failed a and b values are not same"
     ]
    }
   ],
   "source": [
    "# Assert \n",
    "\n",
    "a=4\n",
    "b=3\n",
    "assert(a==b), \"condition failed a and b values are not same\""
   ]
  },
  {
   "cell_type": "markdown",
   "id": "5f8fc0f4-9dcd-43ab-a76e-328d0de0a864",
   "metadata": {},
   "source": [
    "# List Comperhensions : \n"
   ]
  },
  {
   "cell_type": "code",
   "execution_count": 8,
   "id": "eaf9c491-2cd5-4d4a-9752-9e862e5bd0b0",
   "metadata": {},
   "outputs": [
    {
     "data": {
      "text/plain": [
       "[0, 1, 8, 27, 64, 125, 216, 343, 512, 729, 1000, 1331]"
      ]
     },
     "execution_count": 8,
     "metadata": {},
     "output_type": "execute_result"
    }
   ],
   "source": [
    "square = [x**3 for x in range(0,12)]\n",
    "square"
   ]
  },
  {
   "cell_type": "code",
   "execution_count": null,
   "id": "e6c4a510-25da-4c7a-9f17-fa9d75f6e83c",
   "metadata": {},
   "outputs": [],
   "source": []
  }
 ],
 "metadata": {
  "kernelspec": {
   "display_name": "Python 3 (ipykernel)",
   "language": "python",
   "name": "python3"
  },
  "language_info": {
   "codemirror_mode": {
    "name": "ipython",
    "version": 3
   },
   "file_extension": ".py",
   "mimetype": "text/x-python",
   "name": "python",
   "nbconvert_exporter": "python",
   "pygments_lexer": "ipython3",
   "version": "3.10.13"
  }
 },
 "nbformat": 4,
 "nbformat_minor": 5
}
