{
 "cells": [
  {
   "cell_type": "markdown",
   "id": "17b127eb-63f7-4ca4-9400-47492866cfbd",
   "metadata": {},
   "source": [
    "# Functions and lambda functions: "
   ]
  },
  {
   "cell_type": "code",
   "execution_count": 4,
   "id": "4288007f-9fc6-4428-b77f-340dd590bc72",
   "metadata": {},
   "outputs": [
    {
     "data": {
      "text/plain": [
       "20"
      ]
     },
     "execution_count": 4,
     "metadata": {},
     "output_type": "execute_result"
    }
   ],
   "source": [
    "lambda_fun= lambda a: a+10\n",
    "lambda_fun(10)"
   ]
  },
  {
   "cell_type": "code",
   "execution_count": 6,
   "id": "cebe78b3-3aa4-4ef9-83f5-665598f2e30c",
   "metadata": {},
   "outputs": [
    {
     "data": {
      "text/plain": [
       "40"
      ]
     },
     "execution_count": 6,
     "metadata": {},
     "output_type": "execute_result"
    }
   ],
   "source": [
    "lambda_fun(30)"
   ]
  },
  {
   "cell_type": "code",
   "execution_count": 5,
   "id": "f878d3da-eac5-4130-8286-eba56acf6cad",
   "metadata": {},
   "outputs": [
    {
     "data": {
      "text/plain": [
       "function"
      ]
     },
     "execution_count": 5,
     "metadata": {},
     "output_type": "execute_result"
    }
   ],
   "source": [
    "lambda_fun= lambda a: a+10\n",
    "type(lambda_fun)"
   ]
  },
  {
   "cell_type": "code",
   "execution_count": null,
   "id": "f30f96b7-b8f1-40f6-80a7-7731288c2197",
   "metadata": {},
   "outputs": [],
   "source": [
    "# Passing multiple paarameters: \n"
   ]
  },
  {
   "cell_type": "code",
   "execution_count": 7,
   "id": "9ce4b3ce-1518-440c-9692-07df5c0e0a64",
   "metadata": {},
   "outputs": [],
   "source": [
    "lambda_fun = lambda a, b : (a+b, a*b)"
   ]
  },
  {
   "cell_type": "code",
   "execution_count": 8,
   "id": "f28be9a7-b309-46dd-8652-498a45b11fc1",
   "metadata": {},
   "outputs": [
    {
     "data": {
      "text/plain": [
       "(30, 200)"
      ]
     },
     "execution_count": 8,
     "metadata": {},
     "output_type": "execute_result"
    }
   ],
   "source": [
    "lambda_fun(10,20)"
   ]
  },
  {
   "cell_type": "markdown",
   "id": "fdfcc47f-1dc5-41af-8bac-8e361cc5442c",
   "metadata": {},
   "source": [
    "# Functions: "
   ]
  },
  {
   "cell_type": "code",
   "execution_count": 9,
   "id": "94a1cc2b-434f-4492-9f6d-c92bdc13d49c",
   "metadata": {},
   "outputs": [],
   "source": [
    "#Using return:\n",
    "\n",
    "def fun_name (a,b):\n",
    "    return a+b"
   ]
  },
  {
   "cell_type": "code",
   "execution_count": 18,
   "id": "8117a1c9-16f7-4627-9bf7-fca972898971",
   "metadata": {},
   "outputs": [
    {
     "data": {
      "text/plain": [
       "3"
      ]
     },
     "execution_count": 18,
     "metadata": {},
     "output_type": "execute_result"
    }
   ],
   "source": [
    "fun_name (1,2)"
   ]
  },
  {
   "cell_type": "code",
   "execution_count": 11,
   "id": "3557248e-6e76-4cb5-8ce4-45ef7779d4cb",
   "metadata": {},
   "outputs": [],
   "source": [
    "# using print : \n",
    "\n",
    "def fun_name1(a,b):\n",
    "    print('The total of a and b is:', a+b) "
   ]
  },
  {
   "cell_type": "code",
   "execution_count": 14,
   "id": "a7121c41-0ef0-4986-8eb8-c68f567d1d8f",
   "metadata": {},
   "outputs": [
    {
     "name": "stdout",
     "output_type": "stream",
     "text": [
      "The total of a and b is: 5\n"
     ]
    }
   ],
   "source": [
    "fun_name1(2,3)"
   ]
  },
  {
   "cell_type": "code",
   "execution_count": 15,
   "id": "dead7ff5-2c08-42ee-8d6e-8e7b1266fafd",
   "metadata": {},
   "outputs": [],
   "source": [
    "# without arguments: \n",
    "\n",
    "def fun_name2():\n",
    "    print('The function is without argument') "
   ]
  },
  {
   "cell_type": "code",
   "execution_count": 16,
   "id": "02617fb3-25d9-4dda-be3a-5b97be1badb4",
   "metadata": {},
   "outputs": [
    {
     "name": "stdout",
     "output_type": "stream",
     "text": [
      "The function is without argument\n"
     ]
    }
   ],
   "source": [
    "fun_name2()"
   ]
  },
  {
   "cell_type": "code",
   "execution_count": 20,
   "id": "f5e8575b-3d95-41a2-ae1c-c48dc427be58",
   "metadata": {},
   "outputs": [],
   "source": [
    "# Default Parameter Value: \n",
    "\n",
    "def my_function(name, age, loc= 'India'):       #india will print by default\n",
    "    print('My name is :', name)\n",
    "    print('My age is', age)\n",
    "    print('Location is',loc)\n"
   ]
  },
  {
   "cell_type": "code",
   "execution_count": 21,
   "id": "28e682c4-13c8-4b2e-88fa-1abfe6cc58a1",
   "metadata": {},
   "outputs": [
    {
     "name": "stdout",
     "output_type": "stream",
     "text": [
      "My name is : Onkar\n",
      "My age is 27\n",
      "Location is India\n"
     ]
    }
   ],
   "source": [
    "my_function('Onkar',27)         # i havent mention parameter india still india print by default"
   ]
  },
  {
   "cell_type": "markdown",
   "id": "3c7843e2-0577-4475-8fc5-c8a58054106a",
   "metadata": {},
   "source": [
    "# variable number of arguments : "
   ]
  },
  {
   "cell_type": "code",
   "execution_count": 22,
   "id": "95cb8bca-7e80-4a22-87d0-70bc2707cbfd",
   "metadata": {},
   "outputs": [],
   "source": [
    "def my_sum(*args):\n",
    "    return sum(args)"
   ]
  },
  {
   "cell_type": "code",
   "execution_count": 23,
   "id": "5bf83d34-9bcc-4768-8cf1-1500541a0e38",
   "metadata": {},
   "outputs": [
    {
     "data": {
      "text/plain": [
       "15"
      ]
     },
     "execution_count": 23,
     "metadata": {},
     "output_type": "execute_result"
    }
   ],
   "source": [
    "my_sum(1,2,3,4,5)"
   ]
  },
  {
   "cell_type": "code",
   "execution_count": 24,
   "id": "9e04c0ea-91e8-40f5-9258-ba32b70e4803",
   "metadata": {},
   "outputs": [],
   "source": [
    "# key value pair dynamically: \n",
    "\n",
    "def key_value_pair(**kvargs):\n",
    "    print(\"Key value pair data : \", kvargs)\n",
    "    for k,v in kvargs.items():\n",
    "        print('Keys : ', k)\n",
    "        print('values: ',v)"
   ]
  },
  {
   "cell_type": "code",
   "execution_count": 25,
   "id": "d4c2c9d5-5ab8-4aee-b764-45e2b8f4d57e",
   "metadata": {},
   "outputs": [
    {
     "name": "stdout",
     "output_type": "stream",
     "text": [
      "Key value pair data :  {'name': 'Onkar', 'age': 27, 'location': 'Raigad'}\n",
      "Keys :  name\n",
      "values:  Onkar\n",
      "Keys :  age\n",
      "values:  27\n",
      "Keys :  location\n",
      "values:  Raigad\n"
     ]
    }
   ],
   "source": [
    "key_value_pair(name='Onkar', age=27, location='Raigad')"
   ]
  },
  {
   "cell_type": "code",
   "execution_count": 29,
   "id": "6339685f-6c42-4f78-94f7-b466802f4bdf",
   "metadata": {},
   "outputs": [],
   "source": [
    "#print in dictonary/json format\n",
    "\n",
    "def key_value_pair(**kvargs):\n",
    "    print(\"Key value pair data : \", kvargs)\n"
   ]
  },
  {
   "cell_type": "code",
   "execution_count": 32,
   "id": "19c6121b-3bb8-484b-b124-6a712eee5b97",
   "metadata": {},
   "outputs": [
    {
     "name": "stdout",
     "output_type": "stream",
     "text": [
      "Key value pair data :  {'name': 'Onkar', 'age': 27, 'location': 'Raigad'}\n",
      "Key value pair data :  {'name': 'Onkar', 'location': 'Raigad'}\n"
     ]
    }
   ],
   "source": [
    "key_value_pair(name='Onkar', age=27, location='Raigad')\n",
    "key_value_pair(name='Onkar', location='Raigad')        #2 key value accept"
   ]
  },
  {
   "cell_type": "markdown",
   "id": "4dfa5c10-6e48-42ba-932b-1cc7a6840137",
   "metadata": {},
   "source": [
    "# Nested function"
   ]
  },
  {
   "cell_type": "code",
   "execution_count": 39,
   "id": "9e5ed78e-7435-4b31-a11c-af1a32c7ea99",
   "metadata": {},
   "outputs": [],
   "source": [
    "def function_outside():\n",
    "    print('This is Global/Outside function')\n",
    "    def function_inside():\n",
    "        print('This is local/inside function')\n",
    "        function_inside()\n",
    "    "
   ]
  },
  {
   "cell_type": "code",
   "execution_count": 35,
   "id": "36589d43-a5c8-4cb9-a929-7ab7faa0b122",
   "metadata": {},
   "outputs": [
    {
     "name": "stdout",
     "output_type": "stream",
     "text": [
      "This is Global/Outside function\n"
     ]
    }
   ],
   "source": [
    "function_outside() # it can be call anywhere"
   ]
  },
  {
   "cell_type": "code",
   "execution_count": null,
   "id": "58714c11-234d-48ad-b0eb-7a23d19cacd2",
   "metadata": {},
   "outputs": [],
   "source": [
    "function_inside() # it will show error you can not call this ouside the function"
   ]
  },
  {
   "cell_type": "markdown",
   "id": "60fd1f3f-23b8-43c4-b189-1edaae186095",
   "metadata": {},
   "source": [
    "# pass statement"
   ]
  },
  {
   "cell_type": "code",
   "execution_count": 41,
   "id": "cac01bc1-ea3d-4a54-ae7b-f075db321c6e",
   "metadata": {},
   "outputs": [],
   "source": [
    "#for empty function we can use pass statement : \n",
    "\n",
    "def pass_function():\n",
    "    pass"
   ]
  },
  {
   "cell_type": "code",
   "execution_count": null,
   "id": "f2509b3d-60fe-4723-91c7-33d29ca8af88",
   "metadata": {},
   "outputs": [],
   "source": []
  }
 ],
 "metadata": {
  "kernelspec": {
   "display_name": "Python 3 (ipykernel)",
   "language": "python",
   "name": "python3"
  },
  "language_info": {
   "codemirror_mode": {
    "name": "ipython",
    "version": 3
   },
   "file_extension": ".py",
   "mimetype": "text/x-python",
   "name": "python",
   "nbconvert_exporter": "python",
   "pygments_lexer": "ipython3",
   "version": "3.10.13"
  }
 },
 "nbformat": 4,
 "nbformat_minor": 5
}
