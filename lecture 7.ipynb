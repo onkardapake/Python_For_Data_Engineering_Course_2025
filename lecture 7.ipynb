{
 "cells": [
  {
   "cell_type": "markdown",
   "id": "f4f8dec8-ac5d-4a26-961b-1f999ef488b7",
   "metadata": {},
   "source": [
    "# Sets and Dictionaries: "
   ]
  },
  {
   "cell_type": "code",
   "execution_count": 7,
   "id": "10c25cd0-a296-4b47-9b60-726573bd6544",
   "metadata": {},
   "outputs": [
    {
     "name": "stdout",
     "output_type": "stream",
     "text": [
      "<class 'list'>\n",
      "<class 'tuple'>\n",
      "<class 'dict'>\n",
      "<class 'set'>\n",
      "{1, 2, 3, 4, 5, 6, 7}\n"
     ]
    }
   ],
   "source": [
    "#Sets: \n",
    "\n",
    "\n",
    "object1 = []\n",
    "object2= ()\n",
    "object3 = {}\n",
    "\n",
    "print(type(object1))                #list\n",
    "print(type(object2))                #tuple\n",
    "print(type(object3))                #dict\n",
    "\n",
    "object4={1,1,2,3,4,2,3,4,5,6,7}     #sets\n",
    "print(type(object4))\n",
    "print(object4)"
   ]
  },
  {
   "cell_type": "markdown",
   "id": "14a19118-2c08-4c98-a2c9-6673270174cd",
   "metadata": {},
   "source": [
    "# Add items"
   ]
  },
  {
   "cell_type": "code",
   "execution_count": 2,
   "id": "8f4b4bf6-58f5-4ce5-988d-859fbb0e9f2e",
   "metadata": {},
   "outputs": [
    {
     "name": "stdout",
     "output_type": "stream",
     "text": [
      "{'banana', 'peru', 'apple', 'chiku'}\n"
     ]
    }
   ],
   "source": [
    "add_items={'apple','banana','peru'}\n",
    "add_items.add('chiku')\n",
    "print(add_items)"
   ]
  },
  {
   "cell_type": "markdown",
   "id": "4405b703-0a35-4ea5-9201-ce96bdd41d03",
   "metadata": {},
   "source": [
    "# Update Items"
   ]
  },
  {
   "cell_type": "code",
   "execution_count": 3,
   "id": "bd54abaa-8ee9-47cf-9a85-5dd96bb8dbc9",
   "metadata": {},
   "outputs": [
    {
     "name": "stdout",
     "output_type": "stream",
     "text": [
      "{'banana', 'apple', 'cherry', 'chiku', 'peru', 'melon'}\n"
     ]
    }
   ],
   "source": [
    "update_items={'apple','banana','peru'}\n",
    "update_items.update(['chiku','cherry','melon'])\n",
    "print(update_items)"
   ]
  },
  {
   "cell_type": "markdown",
   "id": "2ec41c78-38d4-4533-8e43-a8e2be59582f",
   "metadata": {},
   "source": [
    "# length"
   ]
  },
  {
   "cell_type": "code",
   "execution_count": 4,
   "id": "0618ef81-a6c7-412e-96d5-62d0998bb20b",
   "metadata": {},
   "outputs": [
    {
     "data": {
      "text/plain": [
       "3"
      ]
     },
     "execution_count": 4,
     "metadata": {},
     "output_type": "execute_result"
    }
   ],
   "source": [
    "v_length={'apple','banana','peru'}\n",
    "len(v_length)"
   ]
  },
  {
   "cell_type": "markdown",
   "id": "7e1a13b3-6dd3-4ba0-b302-327fe18e7068",
   "metadata": {},
   "source": [
    "# Remove items"
   ]
  },
  {
   "cell_type": "code",
   "execution_count": 6,
   "id": "f7c51ec1-f85d-425b-9f4d-7ae01108e6a1",
   "metadata": {},
   "outputs": [
    {
     "name": "stdout",
     "output_type": "stream",
     "text": [
      "{'banana', 'apple'}\n"
     ]
    }
   ],
   "source": [
    "remove_items={'apple','banana','peru'}\n",
    "remove_items.remove('peru')\n",
    "print(remove_items)"
   ]
  },
  {
   "cell_type": "code",
   "execution_count": null,
   "id": "3aa4a743-b31d-4342-a658-bc212f5d7949",
   "metadata": {},
   "outputs": [],
   "source": [
    "# Pop is used to remove\n",
    "# clear to clear all values \n",
    "# del also used delete entire\n"
   ]
  },
  {
   "cell_type": "markdown",
   "id": "e144970f-c393-4b25-aee2-0a32357e8813",
   "metadata": {},
   "source": [
    "# Union: Join two sets"
   ]
  },
  {
   "cell_type": "code",
   "execution_count": 8,
   "id": "396d41d0-4b01-4c8a-af67-ef0649dc4a76",
   "metadata": {},
   "outputs": [
    {
     "data": {
      "text/plain": [
       "{1, 2, 3, 4, 5, 6, 7, 8, 9, 10}"
      ]
     },
     "execution_count": 8,
     "metadata": {},
     "output_type": "execute_result"
    }
   ],
   "source": [
    "set1={1,2,3,4,5,6}\n",
    "set2={6,7,8,9,10,1,2}\n",
    "\n",
    "set2.union(set1)    \n",
    "\n",
    "#eleminate duplicate values"
   ]
  },
  {
   "cell_type": "markdown",
   "id": "6ba04ed8-367b-45a3-8b8c-1c4419145a9a",
   "metadata": {},
   "source": [
    "# Intersection : Common but unique"
   ]
  },
  {
   "cell_type": "code",
   "execution_count": 9,
   "id": "0daa23da-6ed7-4352-996d-566cdf291440",
   "metadata": {},
   "outputs": [
    {
     "data": {
      "text/plain": [
       "{1, 2, 6}"
      ]
     },
     "execution_count": 9,
     "metadata": {},
     "output_type": "execute_result"
    }
   ],
   "source": [
    "set1={1,2,3,4,5,6}\n",
    "set2={6,7,8,9,10,1,2}\n",
    "\n",
    "set2.intersection(set1)    \n"
   ]
  },
  {
   "cell_type": "markdown",
   "id": "62e86354-ac58-41c8-9c0e-88da0f3677b3",
   "metadata": {},
   "source": [
    "# Difference : "
   ]
  },
  {
   "cell_type": "code",
   "execution_count": 11,
   "id": "e4683757-5505-4649-8958-2b9a0fe861bc",
   "metadata": {},
   "outputs": [
    {
     "data": {
      "text/plain": [
       "{7, 8, 9, 10}"
      ]
     },
     "execution_count": 11,
     "metadata": {},
     "output_type": "execute_result"
    }
   ],
   "source": [
    "set1={1,2,3,4,5,6}\n",
    "set2={6,7,8,9,10,1,2}\n",
    "\n",
    "set2.difference(set1)    "
   ]
  },
  {
   "cell_type": "markdown",
   "id": "dd03ca90-bbcf-4ca8-821e-baf35d47ba97",
   "metadata": {},
   "source": [
    "# Copy"
   ]
  },
  {
   "cell_type": "code",
   "execution_count": 12,
   "id": "31e20895-03a7-4e55-84b3-4f6c55a619e4",
   "metadata": {},
   "outputs": [
    {
     "name": "stdout",
     "output_type": "stream",
     "text": [
      "{'Dapake', 'Dipak', 'Onkar'}\n",
      "{'Dapake', 'Dipak', 'Onkar'}\n"
     ]
    }
   ],
   "source": [
    "names = {'Onkar', 'Dipak', 'Dapake'}\n",
    "names2=names.copy()\n",
    "print(names)\n",
    "print(names2)"
   ]
  },
  {
   "cell_type": "code",
   "execution_count": null,
   "id": "ebb4a559-6e51-41d8-b6e6-2163434821f0",
   "metadata": {},
   "outputs": [],
   "source": []
  }
 ],
 "metadata": {
  "kernelspec": {
   "display_name": "Python 3 (ipykernel)",
   "language": "python",
   "name": "python3"
  },
  "language_info": {
   "codemirror_mode": {
    "name": "ipython",
    "version": 3
   },
   "file_extension": ".py",
   "mimetype": "text/x-python",
   "name": "python",
   "nbconvert_exporter": "python",
   "pygments_lexer": "ipython3",
   "version": "3.10.13"
  }
 },
 "nbformat": 4,
 "nbformat_minor": 5
}
