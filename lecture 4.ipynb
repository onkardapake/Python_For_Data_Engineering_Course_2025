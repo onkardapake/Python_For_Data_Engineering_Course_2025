{
 "cells": [
  {
   "cell_type": "markdown",
   "id": "3632b049-1b2c-4b17-b345-50fe347a7da9",
   "metadata": {},
   "source": [
    "If else statement : \n"
   ]
  },
  {
   "cell_type": "markdown",
   "id": "6e77f6de-f679-48cf-a7b1-7b1e3295762e",
   "metadata": {},
   "source": [
    "Intendation: whitespaces and line alignment \n",
    "Define scope of code"
   ]
  },
  {
   "cell_type": "code",
   "execution_count": 1,
   "id": "3af7c686-cab6-4ec5-bd8c-60925375d6cf",
   "metadata": {},
   "outputs": [
    {
     "name": "stdout",
     "output_type": "stream",
     "text": [
      "a is not greater than b\n"
     ]
    }
   ],
   "source": [
    "a=10\n",
    "b=20\n",
    "if a>b:\n",
    "    print('a is greater than b')\n",
    "else:\n",
    "    print('a is not greater than b')    "
   ]
  },
  {
   "cell_type": "code",
   "execution_count": 5,
   "id": "891f0811-aa1e-406c-a7f5-9dc9dd9b02f8",
   "metadata": {},
   "outputs": [
    {
     "name": "stdout",
     "output_type": "stream",
     "text": [
      "a is greater than b\n"
     ]
    }
   ],
   "source": [
    "a = 20\n",
    "b = 10\n",
    "\n",
    "if a<b:\n",
    "    print('a is less than b')\n",
    "elif a>b:\n",
    "    print('a is greater than b')\n",
    "else:\n",
    "    print('a and b both are same')\n",
    "    "
   ]
  },
  {
   "cell_type": "markdown",
   "id": "3991ed72-b256-4fe5-a335-b719e7fe94e2",
   "metadata": {},
   "source": [
    "# short hand if and short hand elif"
   ]
  },
  {
   "cell_type": "code",
   "execution_count": 6,
   "id": "d7514df9-05af-4c38-93a9-558d5199a893",
   "metadata": {},
   "outputs": [
    {
     "name": "stdout",
     "output_type": "stream",
     "text": [
      "A is less than B 200\n"
     ]
    }
   ],
   "source": [
    "a= 200\n",
    "b= 300 \n",
    "print('A is less than B',a) if a<b else print('a is greater than b', b)"
   ]
  },
  {
   "cell_type": "markdown",
   "id": "2ff0cc20-5cb3-49a7-85e3-3df68f1cba2b",
   "metadata": {},
   "source": [
    "# Python Loops: \n",
    "for loop\n",
    "while loop"
   ]
  },
  {
   "cell_type": "markdown",
   "id": "ad53a55e-5345-4b6e-b2ff-0d3411d1977b",
   "metadata": {},
   "source": [
    "For loop with Range()\n",
    "# Another method to print the same statement three times is to use a For Loop\n",
    "# A for loop is programming structure where user-defined block of code runs a specified number of times\n",
    "# Basic Structure :\n",
    "\n",
    "for var in range(num):"
   ]
  },
  {
   "cell_type": "code",
   "execution_count": 2,
   "id": "a40e9374-75d0-41e7-a0f9-54a63611a432",
   "metadata": {},
   "outputs": [
    {
     "name": "stdout",
     "output_type": "stream",
     "text": [
      "0\n",
      "1\n",
      "2\n",
      "3\n",
      "4\n",
      "5\n",
      "6\n",
      "7\n",
      "8\n",
      "9\n"
     ]
    }
   ],
   "source": [
    "v_range = range(10)\n",
    "\n",
    "for a in v_range:\n",
    "    print(a)"
   ]
  },
  {
   "cell_type": "code",
   "execution_count": 3,
   "id": "9ae93711-83f7-47c7-9562-3072e7a37c8a",
   "metadata": {},
   "outputs": [
    {
     "name": "stdout",
     "output_type": "stream",
     "text": [
      "O\n",
      "n\n",
      "k\n",
      "a\n",
      "r\n"
     ]
    }
   ],
   "source": [
    "v_range = range(10)\n",
    "name= 'Onkar'\n",
    "for a in name:\n",
    "    print(a)"
   ]
  },
  {
   "cell_type": "code",
   "execution_count": 4,
   "id": "caca9bfe-2d40-4fb3-ae82-82b51877a46e",
   "metadata": {},
   "outputs": [
    {
     "name": "stdout",
     "output_type": "stream",
     "text": [
      "0\n",
      "1\n",
      "2\n",
      "3\n",
      "4\n"
     ]
    }
   ],
   "source": [
    "for a in range(5):\n",
    "    print(a)"
   ]
  },
  {
   "cell_type": "markdown",
   "id": "2aed180c-e03f-48e2-b485-28a502839d9e",
   "metadata": {},
   "source": [
    "# Looping"
   ]
  },
  {
   "cell_type": "code",
   "execution_count": 15,
   "id": "dc69bb19-cf9c-4da3-89ee-439b092ab158",
   "metadata": {},
   "outputs": [
    {
     "name": "stdout",
     "output_type": "stream",
     "text": [
      "Apple\n",
      "Another state\n",
      "Mango\n",
      "Another state\n",
      "Cherry\n",
      "Another state\n"
     ]
    }
   ],
   "source": [
    "# Break statement: \n",
    "\n",
    "# Stopping entire statement\n",
    "# Stopping only current iteration (10 values - 10 iteration)\n",
    "\n",
    "\n",
    "\n",
    "fruits = [\"Apple\", \"Mango\",\"Cherry\", \"Peru\", \"banana\"]\n",
    "for x in fruits:\n",
    "    \n",
    "    if x == \"Peru\":\n",
    "        break\n",
    "    print(x)\n",
    "    print('Another state')"
   ]
  },
  {
   "cell_type": "code",
   "execution_count": 16,
   "id": "1fcbc77d-4f33-4a93-9697-3aa3d3d8b960",
   "metadata": {},
   "outputs": [
    {
     "name": "stdout",
     "output_type": "stream",
     "text": [
      "Apple\n",
      "Another state\n",
      "Mango\n",
      "Another state\n",
      "Cherry\n",
      "Another state\n",
      "banana\n",
      "Another state\n"
     ]
    }
   ],
   "source": [
    "# Continue statement: \n",
    "\n",
    "fruits = [\"Apple\", \"Mango\",\"Cherry\", \"Peru\", \"banana\"]\n",
    "for x in fruits:\n",
    "    \n",
    "    if x == \"Peru\":\n",
    "        continue\n",
    "    print(x)\n",
    "    print('Another state')"
   ]
  },
  {
   "cell_type": "code",
   "execution_count": 24,
   "id": "31fe0247-d1e8-480c-8d75-4fccd7e27590",
   "metadata": {},
   "outputs": [
    {
     "name": "stdout",
     "output_type": "stream",
     "text": [
      "0\n",
      "1\n",
      "4\n",
      "6\n",
      "7\n",
      "8\n",
      "9\n"
     ]
    }
   ],
   "source": [
    "# for eg: I am taking 10 values and i dont want to print 2,3,5\n",
    "\n",
    "for i in range(10):\n",
    "    if i in [2,3,5]:\n",
    "        continue\n",
    "    print(i)\n",
    "    \n"
   ]
  },
  {
   "cell_type": "code",
   "execution_count": 26,
   "id": "a6a3ae3f-8b2b-4698-9095-debdf27c6790",
   "metadata": {},
   "outputs": [
    {
     "name": "stdout",
     "output_type": "stream",
     "text": [
      "1\n",
      "3\n",
      "5\n",
      "7\n",
      "9\n"
     ]
    }
   ],
   "source": [
    "#skip even numbers:\n",
    "\n",
    "for i in range(10):\n",
    "    if i%2==0:\n",
    "        continue\n",
    "    print(i)\n",
    "    "
   ]
  },
  {
   "cell_type": "code",
   "execution_count": 27,
   "id": "441dfe9c-501e-4bc1-9dc2-1c17baa43aa0",
   "metadata": {},
   "outputs": [
    {
     "name": "stdout",
     "output_type": "stream",
     "text": [
      "0\n",
      "2\n",
      "4\n",
      "6\n",
      "8\n"
     ]
    }
   ],
   "source": [
    "#skip odd numbers:\n",
    "\n",
    "for i in range(10):\n",
    "    if i%2==1:\n",
    "        continue\n",
    "    print(i)"
   ]
  },
  {
   "cell_type": "markdown",
   "id": "192c8fd7-e2f8-4e81-b48d-6fc6700f56d9",
   "metadata": {},
   "source": [
    "# While loop: \n",
    "\n",
    "With while loop we can execute a set of statements as long as condition is true."
   ]
  },
  {
   "cell_type": "code",
   "execution_count": 32,
   "id": "24187df0-dbe8-44a8-a83e-8993cf07ab8a",
   "metadata": {},
   "outputs": [
    {
     "name": "stdout",
     "output_type": "stream",
     "text": [
      "0\n",
      "2\n",
      "4\n",
      "6\n",
      "8\n"
     ]
    }
   ],
   "source": [
    "i = 0\n",
    "while i < 10:\n",
    "    print(i)\n",
    "    i+=2     # increament by 2"
   ]
  },
  {
   "cell_type": "code",
   "execution_count": 35,
   "id": "13f9b8c6-4574-411f-a7d9-98ad43a30cd4",
   "metadata": {},
   "outputs": [
    {
     "name": "stdout",
     "output_type": "stream",
     "text": [
      "1\n",
      "2\n",
      "3\n",
      "4\n",
      "5\n",
      "i is no longer less than 6\n"
     ]
    }
   ],
   "source": [
    "i= 1\n",
    "while i< 6:\n",
    "    print(i)\n",
    "    i +=1 \n",
    "else:\n",
    "    print('i is no longer less than 6')"
   ]
  },
  {
   "cell_type": "code",
   "execution_count": null,
   "id": "9f2c1cc3-bca9-4aa7-92f2-791dbb87dbb9",
   "metadata": {},
   "outputs": [],
   "source": []
  }
 ],
 "metadata": {
  "kernelspec": {
   "display_name": "Python 3 (ipykernel)",
   "language": "python",
   "name": "python3"
  },
  "language_info": {
   "codemirror_mode": {
    "name": "ipython",
    "version": 3
   },
   "file_extension": ".py",
   "mimetype": "text/x-python",
   "name": "python",
   "nbconvert_exporter": "python",
   "pygments_lexer": "ipython3",
   "version": "3.10.13"
  }
 },
 "nbformat": 4,
 "nbformat_minor": 5
}
