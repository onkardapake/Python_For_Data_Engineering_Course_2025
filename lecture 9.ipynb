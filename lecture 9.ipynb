{
 "cells": [
  {
   "cell_type": "markdown",
   "id": "99e298b7-9487-43e6-b994-51c69d32c40b",
   "metadata": {},
   "source": [
    "# File Handling : "
   ]
  },
  {
   "cell_type": "markdown",
   "id": "baaf2add-3712-4e71-a050-8ea6fc56eff8",
   "metadata": {},
   "source": [
    "# Files system commands: \n",
    "\n",
    "1)ls : listing files\n",
    "2)mkdir: make directory \n",
    "3)put: create new file\n",
    "4)cp: copy file\n",
    "5)mv: move file\n",
    "6)rm: remove file\n",
    "7)head: reading files\n",
    "\n",
    "# DBFS : Databricks Distributes Files System:\n",
    "using %fs or pyspark we can access \n",
    "    \n",
    "#normal file system can be access using python."
   ]
  },
  {
   "cell_type": "code",
   "execution_count": 2,
   "id": "d2ae9cc0-8e96-4793-95d8-f9f5570552e6",
   "metadata": {},
   "outputs": [
    {
     "name": "stdout",
     "output_type": "stream",
     "text": [
      " Volume in drive C has no label.\n",
      " Volume Serial Number is B0BF-4517\n",
      "\n",
      " Directory of C:\\Users\\onkar.dapake\\OneDrive - PROWESS SELLING SKILLS PRIVATE LIMITED\\Prowess Gen AI\\Courses\n",
      "\n",
      "10-03-2025  11:57 AM    <DIR>          .\n",
      "10-03-2025  11:57 AM    <DIR>          ..\n",
      "10-03-2025  11:01 AM    <DIR>          .ipynb_checkpoints\n",
      "28-02-2025  10:51 AM            23,743 lecture 2 & 3.ipynb\n",
      "03-03-2025  12:03 PM             8,602 lecture 4.ipynb\n",
      "04-03-2025  11:52 AM             9,639 lecture 5.ipynb\n",
      "06-03-2025  11:06 AM             9,856 lecture 6.ipynb\n",
      "10-03-2025  10:22 AM             6,483 lecture 7.ipynb\n",
      "10-03-2025  11:01 AM             2,555 lecture 8.ipynb\n",
      "10-03-2025  11:57 AM             1,095 lecture 9.ipynb\n",
      "27-02-2025  03:11 PM            16,531 Python course.docx\n",
      "               8 File(s)         78,504 bytes\n",
      "               3 Dir(s)  26,588,352,512 bytes free\n"
     ]
    }
   ],
   "source": [
    "ls"
   ]
  },
  {
   "cell_type": "markdown",
   "id": "4b7926f2-56fd-4923-a079-123ed96b49e8",
   "metadata": {},
   "source": [
    "The open() function takes two parameters; filename and mode\n",
    "\n",
    "There are 4 methods for opening file:\n",
    "- r (Read) : reading from exsiting file\n",
    "- a (append): open files for appending\n",
    "- w (write): open file for writing \n",
    "- x (Create): create a file"
   ]
  },
  {
   "cell_type": "code",
   "execution_count": null,
   "id": "92d3cb82-26a1-42d3-bdce-2ed731c274e2",
   "metadata": {},
   "outputs": [],
   "source": []
  }
 ],
 "metadata": {
  "kernelspec": {
   "display_name": "Python 3 (ipykernel)",
   "language": "python",
   "name": "python3"
  },
  "language_info": {
   "codemirror_mode": {
    "name": "ipython",
    "version": 3
   },
   "file_extension": ".py",
   "mimetype": "text/x-python",
   "name": "python",
   "nbconvert_exporter": "python",
   "pygments_lexer": "ipython3",
   "version": "3.10.13"
  }
 },
 "nbformat": 4,
 "nbformat_minor": 5
}
