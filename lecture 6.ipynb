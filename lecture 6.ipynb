{
 "cells": [
  {
   "cell_type": "markdown",
   "id": "6f33b2cb-6e79-4a6d-bc12-7ecbd02c0f4a",
   "metadata": {},
   "source": [
    "# Python Data structures or collections (Arrays):\n",
    "\n",
    "- There are 4 types of data structure :\n",
    "  1) List: List is collection which is order and changable. Allows duplicate members[.]\n",
    "  2) Tuple: Tuple is collection which is order and unchangable.(Immutable).Allows duplicate members(.)\n",
    "  3) set: unorderd and unindexed. Do not allow duplicate members{.}\n",
    "  4) dictionary: unordered, changable, indexed. Do not allow duplicate members{name:'Onkar',age:27}\n",
    "   "
   ]
  },
  {
   "cell_type": "markdown",
   "id": "6b686068-b347-49ab-8752-aa858680405b",
   "metadata": {},
   "source": [
    "# List: "
   ]
  },
  {
   "cell_type": "code",
   "execution_count": 1,
   "id": "1a7358cc-03c2-4fa3-bc63-24330d969baa",
   "metadata": {},
   "outputs": [
    {
     "data": {
      "text/plain": [
       "[1, 2, 3, 4, 5, 6, 7, 8, 9, 10]"
      ]
     },
     "execution_count": 1,
     "metadata": {},
     "output_type": "execute_result"
    }
   ],
   "source": [
    "v_list = [1,2,3,4,5,6,7,8,9,10]\n",
    "v_list"
   ]
  },
  {
   "cell_type": "code",
   "execution_count": 2,
   "id": "d877ebb5-4825-4d3f-ab9f-2597e313924e",
   "metadata": {},
   "outputs": [
    {
     "data": {
      "text/plain": [
       "[1, 2, 3, 4, 'Pune', 'Raigad', True, False, 5, 6, 7, 8, 9, 10]"
      ]
     },
     "execution_count": 2,
     "metadata": {},
     "output_type": "execute_result"
    }
   ],
   "source": [
    "v_list = [1,2,3,4,'Pune','Raigad', True, False, 5,6,7,8,9,10]    #string and bolean every thing in list\n",
    "v_list"
   ]
  },
  {
   "cell_type": "code",
   "execution_count": 7,
   "id": "1313f456-260a-47e5-ba18-02fc4fa83925",
   "metadata": {},
   "outputs": [
    {
     "data": {
      "text/plain": [
       "34"
      ]
     },
     "execution_count": 7,
     "metadata": {},
     "output_type": "execute_result"
    }
   ],
   "source": [
    "# indexing should start from 0 (from left to right)\n",
    "# indexing should start from -1 (from right to left)\n",
    "\n",
    "v_list1= [1,22,34,32,1,23,44,54,3,4,5]\n",
    "v_list1[2] #from left to right  "
   ]
  },
  {
   "cell_type": "code",
   "execution_count": 8,
   "id": "786aed08-e9d9-402a-bd40-211fcf99a6d9",
   "metadata": {},
   "outputs": [
    {
     "data": {
      "text/plain": [
       "4"
      ]
     },
     "execution_count": 8,
     "metadata": {},
     "output_type": "execute_result"
    }
   ],
   "source": [
    "v_list1= [1,22,34,32,1,23,44,54,3,4,5]\n",
    "v_list1[-2] #from right to left"
   ]
  },
  {
   "cell_type": "code",
   "execution_count": 10,
   "id": "c7960fa7-059d-46a2-8f1f-00c23d3cdeff",
   "metadata": {},
   "outputs": [
    {
     "data": {
      "text/plain": [
       "['apple', 'banana']"
      ]
     },
     "execution_count": 10,
     "metadata": {},
     "output_type": "execute_result"
    }
   ],
   "source": [
    "mylist= ['apple','banana','cherry', 'orange','peru']\n",
    "\n",
    "mylist[0:2]  # range (n-1)  ....thats why banana is output for 2 "
   ]
  },
  {
   "cell_type": "markdown",
   "id": "6d9d9fbf-cbfd-4ba1-97f2-34a14d1836fd",
   "metadata": {},
   "source": [
    "# Slicing : [min:max(n-1)]"
   ]
  },
  {
   "cell_type": "code",
   "execution_count": 11,
   "id": "348a0592-6d69-4e4a-be19-b619e04e8cf6",
   "metadata": {},
   "outputs": [
    {
     "data": {
      "text/plain": [
       "[]"
      ]
     },
     "execution_count": 11,
     "metadata": {},
     "output_type": "execute_result"
    }
   ],
   "source": [
    "mylist= ['apple','banana','cherry', 'orange','peru']\n",
    "mylist[-1:-4]   # this will not work because 1st we need tot take min value, here -1 is max and -4 is min"
   ]
  },
  {
   "cell_type": "code",
   "execution_count": 12,
   "id": "1a59a675-ff93-4c92-9b1d-f399c7eaef4e",
   "metadata": {},
   "outputs": [
    {
     "data": {
      "text/plain": [
       "['banana', 'cherry', 'orange']"
      ]
     },
     "execution_count": 12,
     "metadata": {},
     "output_type": "execute_result"
    }
   ],
   "source": [
    "mylist= ['apple','banana','cherry', 'orange','peru']\n",
    "mylist[-4:-1] # this will work"
   ]
  },
  {
   "cell_type": "code",
   "execution_count": 13,
   "id": "a222db59-c060-45fb-a2cc-00ba7d01f453",
   "metadata": {},
   "outputs": [],
   "source": [
    "# Update values in existing list "
   ]
  },
  {
   "cell_type": "code",
   "execution_count": 16,
   "id": "6e86c450-ac98-4346-a37d-e8d16a23bc49",
   "metadata": {},
   "outputs": [
    {
     "data": {
      "text/plain": [
       "['apple', 'banana', 'mango', 'orange', 'peru']"
      ]
     },
     "execution_count": 16,
     "metadata": {},
     "output_type": "execute_result"
    }
   ],
   "source": [
    "mylist= ['apple','banana','cherry', 'orange','peru']\n",
    "mylist[2]='mango'   #mango updated in place of cherry\n",
    "mylist"
   ]
  },
  {
   "cell_type": "code",
   "execution_count": 19,
   "id": "f230c340-2ec7-443b-a1f2-dc79cb4f2f66",
   "metadata": {},
   "outputs": [
    {
     "data": {
      "text/plain": [
       "['apple', 'banana', 'cherry', 'orange', 'peru', 'mango']"
      ]
     },
     "execution_count": 19,
     "metadata": {},
     "output_type": "execute_result"
    }
   ],
   "source": [
    "# add values in existing list:\n",
    "\n",
    "mylist= ['apple','banana','cherry', 'orange','peru']\n",
    "mylist.append('mango')    #add this value at the end of the list\n",
    "mylist"
   ]
  },
  {
   "cell_type": "code",
   "execution_count": 22,
   "id": "4c978960-10cb-481e-8f0b-7702dd6e3ab9",
   "metadata": {},
   "outputs": [
    {
     "data": {
      "text/plain": [
       "['apple', 'watermelon', 'banana', 'cherry', 'orange', 'peru']"
      ]
     },
     "execution_count": 22,
     "metadata": {},
     "output_type": "execute_result"
    }
   ],
   "source": [
    "# insert value in between:\n",
    "\n",
    "mylist= ['apple','banana','cherry', 'orange','peru']\n",
    "mylist.insert(1,'watermelon')    # insert used for adding value in between\n",
    "mylist"
   ]
  },
  {
   "cell_type": "code",
   "execution_count": 25,
   "id": "dc10a5e6-cb18-496f-b6eb-e9122793b6e0",
   "metadata": {},
   "outputs": [
    {
     "data": {
      "text/plain": [
       "['apple', 'banana', 'cherry', 'orange', 'peru', 'kiwi', 'dragon']"
      ]
     },
     "execution_count": 25,
     "metadata": {},
     "output_type": "execute_result"
    }
   ],
   "source": [
    "# extend (merge): \n",
    "\n",
    "mylist= ['apple','banana','cherry', 'orange','peru']\n",
    "list2=['kiwi','dragon']\n",
    "mylist.extend(list2)     #extend the list using list2\n",
    "mylist"
   ]
  },
  {
   "cell_type": "code",
   "execution_count": 26,
   "id": "d9471668-70a7-46c2-a911-b1abb3d98140",
   "metadata": {},
   "outputs": [
    {
     "data": {
      "text/plain": [
       "5"
      ]
     },
     "execution_count": 26,
     "metadata": {},
     "output_type": "execute_result"
    }
   ],
   "source": [
    "# length : size or count of list length\n",
    "\n",
    "list_length = ['apple','banana','cherry', 'orange','peru']\n",
    "len(list_length)"
   ]
  },
  {
   "cell_type": "code",
   "execution_count": 30,
   "id": "401f3264-19f1-4a36-b46c-48fd1283c8d8",
   "metadata": {},
   "outputs": [
    {
     "data": {
      "text/plain": [
       "[1, 2, 2, 2, 3, 3, 4, 4, 4, 5, 5, 7, 7, 8, 9, 10, 11]"
      ]
     },
     "execution_count": 30,
     "metadata": {},
     "output_type": "execute_result"
    }
   ],
   "source": [
    "# Sort: arranges the element low to high\n",
    "\n",
    "sort_list=[1,2,4,5,7,8,9,4,3,2,5,7,10,11,2,3,4]\n",
    "sort_list.sort()\n",
    "sort_list"
   ]
  },
  {
   "cell_type": "code",
   "execution_count": 31,
   "id": "e64d950a-4a85-4d37-9aab-6609ca99bbd9",
   "metadata": {},
   "outputs": [
    {
     "data": {
      "text/plain": [
       "[11, 10, 9, 8, 7, 7, 5, 5, 4, 4, 4, 3, 3, 2, 2, 2, 1]"
      ]
     },
     "execution_count": 31,
     "metadata": {},
     "output_type": "execute_result"
    }
   ],
   "source": [
    "#descnding order: \n",
    "\n",
    "sort_list=[1,2,4,5,7,8,9,4,3,2,5,7,10,11,2,3,4]\n",
    "sort_list.sort(reverse=True)\n",
    "sort_list"
   ]
  },
  {
   "cell_type": "code",
   "execution_count": null,
   "id": "62042bf9-19ec-4088-8d82-add474b68148",
   "metadata": {},
   "outputs": [],
   "source": [
    "#del: deleteing object\n",
    "# pop: delete recently or end of item list\n",
    "#\n"
   ]
  },
  {
   "cell_type": "code",
   "execution_count": null,
   "id": "365ea4cc-8479-4928-8688-2d3cdf91ac15",
   "metadata": {},
   "outputs": [],
   "source": [
    "#copy: \n",
    "\n",
    "copy_list=[1,2,4,5,7,8,9,4,3,2,5,7,10,11,2,3,4]\n",
    "copy_list=final_list\n",
    "final_list"
   ]
  },
  {
   "cell_type": "markdown",
   "id": "884fc1f6-c4ae-4a3b-a2e2-a1b2c5813259",
   "metadata": {},
   "source": [
    "# List: \n",
    "-append\n",
    "-insert \n",
    "-extend\n",
    "\n",
    "-remove\n",
    "-pop()\n",
    "-delete\n",
    "-clear()\n",
    "\n",
    "-copy()\n",
    "-sort()\n",
    "-reverse()"
   ]
  },
  {
   "cell_type": "markdown",
   "id": "bf9c63c6-914b-4c7e-b2fc-0daa2190e5db",
   "metadata": {},
   "source": [
    "Tuple: \n",
    "\n"
   ]
  }
 ],
 "metadata": {
  "kernelspec": {
   "display_name": "Python 3 (ipykernel)",
   "language": "python",
   "name": "python3"
  },
  "language_info": {
   "codemirror_mode": {
    "name": "ipython",
    "version": 3
   },
   "file_extension": ".py",
   "mimetype": "text/x-python",
   "name": "python",
   "nbconvert_exporter": "python",
   "pygments_lexer": "ipython3",
   "version": "3.10.13"
  }
 },
 "nbformat": 4,
 "nbformat_minor": 5
}
