{
 "cells": [
  {
   "cell_type": "code",
   "execution_count": 3,
   "id": "fe5c753d-21c5-4855-b206-b562a2fd904a",
   "metadata": {},
   "outputs": [
    {
     "name": "stdout",
     "output_type": "stream",
     "text": [
      "onkar\n"
     ]
    }
   ],
   "source": [
    "name = 'onkar'\n",
    "print(name)"
   ]
  },
  {
   "cell_type": "code",
   "execution_count": 4,
   "id": "228a3e73-082e-4aae-b841-fafed851982d",
   "metadata": {},
   "outputs": [
    {
     "data": {
      "text/plain": [
       "'onkar'"
      ]
     },
     "execution_count": 4,
     "metadata": {},
     "output_type": "execute_result"
    }
   ],
   "source": [
    "name\n"
   ]
  },
  {
   "cell_type": "code",
   "execution_count": 6,
   "id": "a5694599-54bd-4bf2-8afe-e0d409e691b6",
   "metadata": {},
   "outputs": [
    {
     "ename": "NameError",
     "evalue": "name 'Name' is not defined",
     "output_type": "error",
     "traceback": [
      "\u001b[1;31m---------------------------------------------------------------------------\u001b[0m",
      "\u001b[1;31mNameError\u001b[0m                                 Traceback (most recent call last)",
      "Cell \u001b[1;32mIn[6], line 1\u001b[0m\n\u001b[1;32m----> 1\u001b[0m \u001b[43mName\u001b[49m\n",
      "\u001b[1;31mNameError\u001b[0m: name 'Name' is not defined"
     ]
    }
   ],
   "source": [
    "Name\n",
    "#case sensitive example"
   ]
  },
  {
   "cell_type": "code",
   "execution_count": 8,
   "id": "b769edc4-cc46-4370-a80a-a040cefae7ed",
   "metadata": {},
   "outputs": [
    {
     "name": "stdout",
     "output_type": "stream",
     "text": [
      "27\n"
     ]
    }
   ],
   "source": [
    "#variabe\n",
    "#python is dynamic type: \n",
    "\n",
    "age = 27\n",
    "print(age)"
   ]
  },
  {
   "cell_type": "code",
   "execution_count": 10,
   "id": "9aedc614-7d89-4660-9868-23a9ab26e4a8",
   "metadata": {},
   "outputs": [
    {
     "data": {
      "text/plain": [
       "'ONKAR'"
      ]
     },
     "execution_count": 10,
     "metadata": {},
     "output_type": "execute_result"
    }
   ],
   "source": [
    "#last output will display\n",
    "\n",
    "Name = 'onkar'\n",
    "name= 'ONKAR'\n",
    "Name\n",
    "name"
   ]
  },
  {
   "cell_type": "code",
   "execution_count": 11,
   "id": "20a6e7fc-5224-42c6-b886-56c40f23866e",
   "metadata": {},
   "outputs": [
    {
     "name": "stdout",
     "output_type": "stream",
     "text": [
      "onkar\n",
      "ONKAR\n"
     ]
    }
   ],
   "source": [
    "#if you want both output use print function\n",
    "Name = 'onkar'\n",
    "name= 'ONKAR'\n",
    "print(Name)\n",
    "print(name)"
   ]
  },
  {
   "cell_type": "code",
   "execution_count": 13,
   "id": "d9084eb9-eb8c-4b03-9e4e-c2ffebb07e52",
   "metadata": {},
   "outputs": [
    {
     "data": {
      "text/plain": [
       "int"
      ]
     },
     "execution_count": 13,
     "metadata": {},
     "output_type": "execute_result"
    }
   ],
   "source": [
    "# identify data type : use type()\n",
    "\n",
    "age=27\n",
    "type(age)"
   ]
  },
  {
   "cell_type": "code",
   "execution_count": 14,
   "id": "7ec9ee4c-88b6-421f-9914-4ceef0495df0",
   "metadata": {},
   "outputs": [
    {
     "data": {
      "text/plain": [
       "str"
      ]
     },
     "execution_count": 14,
     "metadata": {},
     "output_type": "execute_result"
    }
   ],
   "source": [
    "# if you use \" \" then it will string\n",
    "\n",
    "age=\"27\"\n",
    "type (age)"
   ]
  },
  {
   "cell_type": "code",
   "execution_count": 18,
   "id": "7e236cf6-456e-43fc-8f50-1a432e5489f7",
   "metadata": {},
   "outputs": [
    {
     "data": {
      "text/plain": [
       "bool"
      ]
     },
     "execution_count": 18,
     "metadata": {},
     "output_type": "execute_result"
    }
   ],
   "source": [
    "# true and false is boolean data type: \n",
    "\n",
    "var=True\n",
    "type(var)\n"
   ]
  },
  {
   "cell_type": "code",
   "execution_count": null,
   "id": "e2c62f3f-d132-4462-b856-545b65de3306",
   "metadata": {},
   "outputs": [],
   "source": [
    "# 1) # : single line comment\n",
    "# 2) ''' ''' : multi line comments\n",
    "# 3) "
   ]
  },
  {
   "cell_type": "code",
   "execution_count": null,
   "id": "54a2f7e4-5f3b-406e-be9d-d41545ce3d4b",
   "metadata": {},
   "outputs": [],
   "source": [
    "list  =[1,2,3]\n",
    "help(list)"
   ]
  },
  {
   "cell_type": "markdown",
   "id": "61e30752-1013-45b4-b4ad-d258d64393c7",
   "metadata": {},
   "source": [
    "# Python identifier: \n",
    "Python identifier is the name we give to identify variable, list, tuple, sets, dictionary, function, class, module or other object."
   ]
  },
  {
   "cell_type": "code",
   "execution_count": 32,
   "id": "70a9c324-7624-487b-a170-140b117d6b08",
   "metadata": {},
   "outputs": [
    {
     "name": "stdout",
     "output_type": "stream",
     "text": [
      "ram\n"
     ]
    }
   ],
   "source": [
    "#same name for 2 variable can override and take last variable as output\n",
    "var_name = 'onkar'\n",
    "var_name = 'ram'\n",
    "\n",
    "print(var_name)"
   ]
  },
  {
   "cell_type": "markdown",
   "id": "3e72ed08-20b5-40cc-a689-4c8b2aff7271",
   "metadata": {},
   "source": [
    "Variables :\n",
    "\n",
    "# most of the varibale name are in lower case : var1, var2, onclick, feedback_variable\n",
    "# upper case variables such as: PATH, USERNAME, PASSWORD (These are globle varible used once in whole project)\n",
    "# best way to use varibles: v_path, v_variable, v_ontick, v_refine\n",
    "\n",
    "# local variables start with V_local\n",
    "# global variables always starts with gv_global\n",
    "\n"
   ]
  },
  {
   "cell_type": "code",
   "execution_count": 37,
   "id": "7a2f9535-a7bb-4e22-ba18-0c6068fdfc5d",
   "metadata": {},
   "outputs": [
    {
     "name": "stdout",
     "output_type": "stream",
     "text": [
      "1472977898832\n",
      "1472977895792\n"
     ]
    }
   ],
   "source": [
    "# Python Memory allocation for integers: \n",
    "\n",
    "a= 100\n",
    "b=5\n",
    "\n",
    "print(id(a))\n",
    "print(id(b))"
   ]
  },
  {
   "cell_type": "code",
   "execution_count": 39,
   "id": "6429cdbc-329f-4d35-937c-769a9afba344",
   "metadata": {},
   "outputs": [
    {
     "name": "stdout",
     "output_type": "stream",
     "text": [
      "1472977898832\n",
      "1472977895792\n"
     ]
    }
   ],
   "source": [
    "# diffrent variable but same values: \n",
    "# we get same id, reuse the memory , this nos will used for range [-5, 256]\n",
    "\n",
    "c=100\n",
    "d=5\n",
    "\n",
    "print(id(c))\n",
    "print(id(d))"
   ]
  },
  {
   "cell_type": "code",
   "execution_count": 47,
   "id": "32354257-211f-4d6b-a811-82897c9554f2",
   "metadata": {},
   "outputs": [
    {
     "name": "stdout",
     "output_type": "stream",
     "text": [
      "My name is  Onkar Dapake\n"
     ]
    }
   ],
   "source": [
    "# how to print varible inside print statement : \n",
    "\n",
    "var= 'Onkar Dapake'\n",
    "print('My name is ', var)"
   ]
  },
  {
   "cell_type": "code",
   "execution_count": 45,
   "id": "cc5d5020-0421-48e4-9a97-8a70b809d3fe",
   "metadata": {},
   "outputs": [
    {
     "name": "stdout",
     "output_type": "stream",
     "text": [
      "My name is onkar and surname is dapake\n"
     ]
    }
   ],
   "source": [
    "#format function(keyword)\n",
    "\n",
    "a = 'onkar'\n",
    "b = 'dapake'\n",
    "print(f'My name is {a} and surname is {b}')"
   ]
  },
  {
   "cell_type": "code",
   "execution_count": 49,
   "id": "834d024a-e164-4dc1-be32-92edac36708f",
   "metadata": {},
   "outputs": [
    {
     "name": "stdout",
     "output_type": "stream",
     "text": [
      "Value of a is : 100\n",
      "Value of b is : 100\n",
      "Value of c is : 100\n",
      "Value of d is : 100\n",
      "Value of e is : 100\n"
     ]
    }
   ],
   "source": [
    "#assign multiple varibale assigning single value:\n",
    "\n",
    "a=b=c=d=e=100\n",
    "\n",
    "print('Value of a is :',a)\n",
    "print('Value of b is :',b)\n",
    "print('Value of c is :',c)\n",
    "print('Value of d is :',d)\n",
    "print('Value of e is :',e)\n"
   ]
  },
  {
   "cell_type": "code",
   "execution_count": 57,
   "id": "4c3d95b8-6d8b-4dad-9d5a-c5744e550ee1",
   "metadata": {},
   "outputs": [
    {
     "name": "stdout",
     "output_type": "stream",
     "text": [
      "Onkar\n",
      "Onkar's\n",
      "Onkar's\n",
      "\"Onkar\"\n",
      "\"Onkar's\"\n"
     ]
    }
   ],
   "source": [
    "# Strings: Anything which is in single or double quote it is string\n",
    " \n",
    "print('Onkar')     # regular string\n",
    "print('Onkar\\'s')  # quote inside single quote\n",
    "print(\"Onkar's\")   # quote inside double quote\n",
    "print('\"Onkar\"')   # double quote inside single quote  \n",
    "print('\"Onkar\\'s\"')     # double and single both quote inside single quote\n",
    "\n"
   ]
  },
  {
   "cell_type": "code",
   "execution_count": 59,
   "id": "492f7205-af8f-4d22-b345-0ca347bb4c71",
   "metadata": {},
   "outputs": [
    {
     "name": "stdout",
     "output_type": "stream",
     "text": [
      "2.0\n",
      "2\n"
     ]
    }
   ],
   "source": [
    "# Numbers : \n",
    "\n",
    "print(4/2)     # float value\n",
    "print(4//2)    # integer value\n"
   ]
  },
  {
   "cell_type": "code",
   "execution_count": 63,
   "id": "0cae4a1d-5537-4eeb-9b30-fff571553453",
   "metadata": {},
   "outputs": [
    {
     "name": "stdout",
     "output_type": "stream",
     "text": [
      "55\n"
     ]
    }
   ],
   "source": [
    "# Delete a variable using DEL\n",
    "\n",
    "A= 55\n",
    "print(A)\n",
    "\n",
    "del A\n"
   ]
  },
  {
   "cell_type": "code",
   "execution_count": 87,
   "id": "d39f191b-6da7-417f-927f-39fb49e5d40c",
   "metadata": {},
   "outputs": [
    {
     "name": "stdout",
     "output_type": "stream",
     "text": [
      "The target count is: 200, reached count is: 500 , and profit count is: 300\n",
      "The target count is: 200, reached count is: 500 , and profit count is: 300 \n",
      "The target count is: 200, reached count is: 500 , and profit count is: 300 \n",
      "The target count is: 200, reached count is: 500 , and profit count is: 300 \n"
     ]
    }
   ],
   "source": [
    "# Formatting string: \n",
    "\n",
    "# 2 methods: F string and format function\n",
    "\n",
    "# F string : \n",
    "\n",
    "target = 200\n",
    "reached = 500\n",
    "profit = 300\n",
    "\n",
    "print (f'The target count is: {target}, reached count is: {reached} , and profit count is: {profit}') #using f\n",
    "\n",
    "# .format : \n",
    "\n",
    "target = 200\n",
    "reached = 500\n",
    "profit = 300\n",
    "\n",
    "print ('The target count is: {}, reached count is: {} , and profit count is: {} '.format(target,reached,profit)) # using .format\n",
    "\n",
    "\n",
    "# .format : \n",
    "\n",
    "target = 200\n",
    "reached = 500\n",
    "profit = 300\n",
    "\n",
    "print ('The target count is: {2}, reached count is: {0} , and profit count is: {1} '.format(reached,profit,target)) # using indexed based\n",
    "\n",
    "# .format : \n",
    "\n",
    "target = 200\n",
    "reached = 500\n",
    "profit = 300\n",
    "\n",
    "print ('The target count is: {c}, reached count is: {a} , and profit count is: {b} '.format(a=reached,b=profit,c=target)) # using reference based\n"
   ]
  },
  {
   "cell_type": "code",
   "execution_count": 88,
   "id": "cb6c47d1-5095-4319-a1ff-d868b13a343d",
   "metadata": {},
   "outputs": [
    {
     "name": "stdout",
     "output_type": "stream",
     "text": [
      "n\n",
      "k\n",
      " \n",
      "k\n"
     ]
    }
   ],
   "source": [
    "#Python indexex : \n",
    "\n",
    "# left to right 0 to n \n",
    "# right to left -1 to -n \n",
    "# max value (n-1)\n",
    "\n",
    "\n",
    "name= 'Onkar Dapake'\n",
    "\n",
    "print(name[1])\n",
    "print(name[2])\n",
    "print(name[5])\n",
    "print(name[-2])"
   ]
  },
  {
   "cell_type": "markdown",
   "id": "e384244a-4a07-4144-afd8-e64a5189739a",
   "metadata": {},
   "source": [
    "# Python Data Types: \n",
    "\n",
    "1. Numeric data types: int, float, complex\n",
    "2. String data types: str\n",
    "3. Sequence data types: list , tuple, range\n",
    "4. Binary data types: bytes, bytearray, memoryview\n",
    "5. Mapping data types: dictionary\n",
    "6. Boolean data types : bool\n",
    "7. Set data types: set, frozenset\n",
    "8. Data structure collections : (list, tuples, range, set, frozenset, dictionary)"
   ]
  },
  {
   "cell_type": "code",
   "execution_count": 5,
   "id": "8d0cfaee-fc4f-44b2-8f39-41ef7de0b454",
   "metadata": {},
   "outputs": [
    {
     "data": {
      "text/plain": [
       "[5, 10, 15]"
      ]
     },
     "execution_count": 5,
     "metadata": {},
     "output_type": "execute_result"
    }
   ],
   "source": [
    "# 1. Range data type \n",
    "# range (start,stop,step)\n",
    "\n",
    "v_range = range(5, 20, 5)\n",
    "list(v_range)\n"
   ]
  },
  {
   "cell_type": "code",
   "execution_count": 6,
   "id": "8514b296-07ce-4f82-a0f8-9b84eea57089",
   "metadata": {},
   "outputs": [
    {
     "name": "stdout",
     "output_type": "stream",
     "text": [
      "range(0, 10)\n"
     ]
    }
   ],
   "source": [
    "v_range1= range(10)\n",
    "print(v_range1)\n"
   ]
  },
  {
   "cell_type": "code",
   "execution_count": 10,
   "id": "fe6d903e-d236-4cd1-97a1-141b129786b3",
   "metadata": {},
   "outputs": [
    {
     "data": {
      "text/plain": [
       "[1, 3, 5, 7, 9]"
      ]
     },
     "execution_count": 10,
     "metadata": {},
     "output_type": "execute_result"
    }
   ],
   "source": [
    "v_range2 = range(1,10,2)  #increment by 2\n",
    "list(v_range2)"
   ]
  },
  {
   "cell_type": "code",
   "execution_count": 21,
   "id": "643a0a05-54cb-4f15-b7db-cdd87dcc53d4",
   "metadata": {},
   "outputs": [
    {
     "name": "stdout",
     "output_type": "stream",
     "text": [
      "This is string\n",
      "This is string\n",
      "This is string \n",
      "String is more than one line\n",
      "then we used,\n",
      "triple quotes or double tripple quotes\n",
      "\n"
     ]
    }
   ],
   "source": [
    "# 2. String data type \n",
    "# we can write string in 3 ways of quotes, single double and triple as well.\n",
    "\n",
    "v_string1 = 'This is string'\n",
    "v_string2 = \"This is string\"\n",
    "v_string3 ='''This is string '''\n",
    "\n",
    "v_string4='''String is more than one line\n",
    "then we used,\n",
    "triple quotes or double tripple quotes\n",
    "'''\n",
    "print(v_string1)\n",
    "print(v_string2)\n",
    "print(v_string3)\n",
    "print(v_string4)"
   ]
  },
  {
   "cell_type": "code",
   "execution_count": 23,
   "id": "244dd95e-65d3-42ec-bcae-35ca5586bbf9",
   "metadata": {},
   "outputs": [
    {
     "name": "stdout",
     "output_type": "stream",
     "text": [
      "27\n"
     ]
    }
   ],
   "source": [
    "# 3. Int Data type: \n",
    "\n",
    "v_age = 27\n",
    "print(v_age)"
   ]
  },
  {
   "cell_type": "code",
   "execution_count": 24,
   "id": "099470f0-de4c-4b86-a4f0-9053a830ec75",
   "metadata": {},
   "outputs": [
    {
     "data": {
      "text/plain": [
       "int"
      ]
     },
     "execution_count": 24,
     "metadata": {},
     "output_type": "execute_result"
    }
   ],
   "source": [
    "type(v_age)"
   ]
  },
  {
   "cell_type": "code",
   "execution_count": 25,
   "id": "ba67be3e-2364-4256-a097-6cdb2b0d5051",
   "metadata": {},
   "outputs": [
    {
     "name": "stdout",
     "output_type": "stream",
     "text": [
      "66.66\n"
     ]
    }
   ],
   "source": [
    "# 4. Float data type :\n",
    "\n",
    "v_weight = 66.66\n",
    "print(v_weight)\n"
   ]
  },
  {
   "cell_type": "code",
   "execution_count": 26,
   "id": "beeb553a-1fe3-4db7-a3ed-416d464824d5",
   "metadata": {},
   "outputs": [
    {
     "data": {
      "text/plain": [
       "float"
      ]
     },
     "execution_count": 26,
     "metadata": {},
     "output_type": "execute_result"
    }
   ],
   "source": [
    "type(v_weight)"
   ]
  },
  {
   "cell_type": "code",
   "execution_count": 27,
   "id": "726763f9-7cda-4959-869b-897d58a64786",
   "metadata": {},
   "outputs": [
    {
     "name": "stdout",
     "output_type": "stream",
     "text": [
      "[]\n"
     ]
    }
   ],
   "source": [
    "# List: \n",
    "\n",
    "# It is changable and it allows duplicate values\n",
    "\n",
    "a_list = []\n",
    "print(a_list)"
   ]
  },
  {
   "cell_type": "code",
   "execution_count": 28,
   "id": "da9ade0d-dbc2-4b9e-b90b-8a97036051db",
   "metadata": {},
   "outputs": [
    {
     "data": {
      "text/plain": [
       "list"
      ]
     },
     "execution_count": 28,
     "metadata": {},
     "output_type": "execute_result"
    }
   ],
   "source": [
    "type (a_list)"
   ]
  },
  {
   "cell_type": "code",
   "execution_count": 32,
   "id": "326a8c91-88b7-4e2f-82bf-75a89f714154",
   "metadata": {},
   "outputs": [
    {
     "data": {
      "text/plain": [
       "(1, 2, 3, 4, 5, 6, 6, 6, 777, 888, 777, 888)"
      ]
     },
     "execution_count": 32,
     "metadata": {},
     "output_type": "execute_result"
    }
   ],
   "source": [
    "# Tuple: It is unchangable and allow duplicate members\n",
    "\n",
    "a_tuple = (1,2,3,4,5,6,6,6,777,888,777,888)\n",
    "\n",
    "a_tuple"
   ]
  },
  {
   "cell_type": "markdown",
   "id": "1f301eb1-a44e-4348-8b0b-5b5781d7e582",
   "metadata": {},
   "source": [
    "Dictionary: \n",
    "\n",
    "unorderd, changable, indexed and no duplicate"
   ]
  },
  {
   "cell_type": "code",
   "execution_count": 31,
   "id": "a72c8dbe-933b-474c-9a4d-528a69e43723",
   "metadata": {},
   "outputs": [
    {
     "name": "stdout",
     "output_type": "stream",
     "text": [
      "{1, 2, 3, 4, 5, 6, 7}\n"
     ]
    }
   ],
   "source": [
    "# Dictionary : \n",
    "\n",
    "a_dict={1,2,2,3,3,4,4,4,5,6,7}   # no repeat\n",
    "print(a_dict)"
   ]
  },
  {
   "cell_type": "code",
   "execution_count": 34,
   "id": "f802b888-f99f-4c1c-ae32-8287ab62bc01",
   "metadata": {},
   "outputs": [
    {
     "name": "stdout",
     "output_type": "stream",
     "text": [
      "frozenset({'apple', 'cherry', 'banana'})\n"
     ]
    }
   ],
   "source": [
    "# Frozen set : immutable , it freezes iterable objects and makes them unchangable\n",
    "\n",
    "x= frozenset({\"apple\",\"banana\",\"cherry\"})\n",
    "\n",
    "print (x)\n"
   ]
  },
  {
   "cell_type": "code",
   "execution_count": 38,
   "id": "1a39fa02-6ab5-4d33-acfa-ef7353b2e847",
   "metadata": {},
   "outputs": [
    {
     "name": "stdout",
     "output_type": "stream",
     "text": [
      "this is bool True\n",
      "this is bool <class 'bool'>\n"
     ]
    }
   ],
   "source": [
    "# Boolean: \n",
    "\n",
    "a=True\n",
    "b= False \n",
    "\n",
    "print('this is bool',a)\n",
    "print('this is bool',type(a))\n"
   ]
  },
  {
   "cell_type": "code",
   "execution_count": 41,
   "id": "63c2e721-56b3-4e23-8279-2146389712e3",
   "metadata": {},
   "outputs": [
    {
     "name": "stdout",
     "output_type": "stream",
     "text": [
      "Hello\n"
     ]
    }
   ],
   "source": [
    "# Byte: \n",
    "\n",
    "v_byte = 'Hello'\n",
    "print(v_byte)\n"
   ]
  },
  {
   "cell_type": "markdown",
   "id": "4a21d7b7-e6e4-48dd-a9fe-604f825afabc",
   "metadata": {},
   "source": [
    "# Memory View: "
   ]
  },
  {
   "cell_type": "code",
   "execution_count": 43,
   "id": "faeaa9be-517e-44de-96a2-cc9c5da5de06",
   "metadata": {},
   "outputs": [
    {
     "name": "stdout",
     "output_type": "stream",
     "text": [
      "memory view data type: <memory at 0x0000015186077940>\n",
      "memory view data type: [0, 0, 0, 0, 0, 0, 0, 0, 0, 0, 0, 0, 0, 0, 0, 0, 0, 0, 0, 0, 0, 0, 0, 0, 0, 0, 0, 0, 0, 0, 0, 0, 0, 0, 0, 0, 0, 0, 0, 0, 0, 0, 0, 0, 0, 0, 0, 0, 0, 0, 0, 0, 0, 0, 0]\n"
     ]
    }
   ],
   "source": [
    "v_bytes = bytes(55)\n",
    "mv= memoryview(v_bytes) #memoryview\n",
    "print('memory view data type:',(mv))\n",
    "print('memory view data type:',list(mv))"
   ]
  },
  {
   "cell_type": "markdown",
   "id": "1ab7c1e1-b76d-453a-b610-f87d8d7614f9",
   "metadata": {},
   "source": [
    "# Complex integer data type : \n",
    "Not completed yet"
   ]
  },
  {
   "cell_type": "markdown",
   "id": "10b267c8-8857-4928-a7a6-6d2610a8e748",
   "metadata": {},
   "source": [
    "Date and time data types: "
   ]
  },
  {
   "cell_type": "markdown",
   "id": "d6942050-e2c2-4f34-ab0d-4cd82f44f020",
   "metadata": {},
   "source": [
    "# NOTE: Bytes, Bytesarray and memory view are primary while ML.\n"
   ]
  },
  {
   "cell_type": "code",
   "execution_count": null,
   "id": "4d3643d2-f9ab-403d-aab8-2c7e1e212892",
   "metadata": {},
   "outputs": [],
   "source": [
    "pip install datetime"
   ]
  },
  {
   "cell_type": "code",
   "execution_count": 51,
   "id": "93888b2b-9bc4-473d-b6ae-fb1f99adb744",
   "metadata": {},
   "outputs": [
    {
     "name": "stdout",
     "output_type": "stream",
     "text": [
      "Date :  2025-02-28 10:45:19.953280\n"
     ]
    }
   ],
   "source": [
    "import datetime\n",
    "\n",
    "todays_date = datetime.datetime.now()\n",
    "\n",
    "print('Date : ', todays_date)"
   ]
  },
  {
   "cell_type": "code",
   "execution_count": 53,
   "id": "6d07d2db-bc2a-40f8-b5bd-8aaa6e2989ed",
   "metadata": {},
   "outputs": [
    {
     "name": "stdout",
     "output_type": "stream",
     "text": [
      "Year: 2025\n"
     ]
    }
   ],
   "source": [
    "print('Year:', todays_date.year)"
   ]
  },
  {
   "cell_type": "code",
   "execution_count": 54,
   "id": "bc63f68a-ddb5-4cd2-8bc4-26906e0f9ae5",
   "metadata": {},
   "outputs": [
    {
     "name": "stdout",
     "output_type": "stream",
     "text": [
      "Month:  2\n"
     ]
    }
   ],
   "source": [
    "print('Month: ', todays_date.month)"
   ]
  },
  {
   "cell_type": "code",
   "execution_count": 55,
   "id": "fde2cfb6-e501-4916-9642-a1a1f7f8f934",
   "metadata": {},
   "outputs": [
    {
     "name": "stdout",
     "output_type": "stream",
     "text": [
      "Day:  28\n"
     ]
    }
   ],
   "source": [
    "print('Day: ', todays_date.day)"
   ]
  },
  {
   "cell_type": "code",
   "execution_count": 59,
   "id": "fb06e3c9-9c5e-4431-ab84-17652f4ec29f",
   "metadata": {},
   "outputs": [
    {
     "name": "stdout",
     "output_type": "stream",
     "text": [
      "Friday\n",
      "Fri\n",
      "February\n",
      "Feb\n",
      "10\n",
      "10\n"
     ]
    }
   ],
   "source": [
    "print(todays_date.strftime(\"%A\")) # day\n",
    "\n",
    "print(todays_date.strftime(\"%a\")) # short day\n",
    "\n",
    "print(todays_date.strftime(\"%B\")) # Month\n",
    "\n",
    "print(todays_date.strftime(\"%b\")) # short month\n",
    "\n",
    "print(todays_date.strftime(\"%H\")) # hours\n",
    "\n",
    "print(todays_date.strftime(\"%I\")) #  "
   ]
  },
  {
   "cell_type": "code",
   "execution_count": null,
   "id": "56f297cb-1740-4c2c-8860-9de7d024f887",
   "metadata": {},
   "outputs": [],
   "source": []
  }
 ],
 "metadata": {
  "kernelspec": {
   "display_name": "Python 3 (ipykernel)",
   "language": "python",
   "name": "python3"
  },
  "language_info": {
   "codemirror_mode": {
    "name": "ipython",
    "version": 3
   },
   "file_extension": ".py",
   "mimetype": "text/x-python",
   "name": "python",
   "nbconvert_exporter": "python",
   "pygments_lexer": "ipython3",
   "version": "3.10.13"
  }
 },
 "nbformat": 4,
 "nbformat_minor": 5
}
